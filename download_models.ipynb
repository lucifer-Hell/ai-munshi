{
 "cells": [
  {
   "cell_type": "code",
   "execution_count": null,
   "id": "4fbb8255",
   "metadata": {},
   "outputs": [],
   "source": [
    "%pip install google-cloud-storage tqdm"
   ]
  },
  {
   "cell_type": "code",
   "execution_count": null,
   "id": "741a656a",
   "metadata": {},
   "outputs": [
    {
     "name": "stdout",
     "output_type": "stream",
     "text": [
      "Found 11 files in 'models/phi4-full-finetune-2'\n"
     ]
    },
    {
     "name": "stderr",
     "output_type": "stream",
     "text": [
      "Downloading files: 100%|██████████| 11/11 [28:36<00:00, 156.08s/it]"
     ]
    },
    {
     "name": "stdout",
     "output_type": "stream",
     "text": [
      "Downloaded folder 'models/phi4-full-finetune-2' to './munshi-ai'\n"
     ]
    },
    {
     "name": "stderr",
     "output_type": "stream",
     "text": [
      "\n"
     ]
    }
   ],
   "source": [
    "import os\n",
    "from google.cloud import storage\n",
    "from google.oauth2 import service_account\n",
    "from tqdm import tqdm\n",
    "import json\n",
    "\n",
    "\n",
    "def download_gcs_folder(bucket_name, source_folder, destination_folder, service_account_dict):\n",
    "    # Create credentials from JSON dict\n",
    "    credentials = service_account.Credentials.from_service_account_info(service_account_dict)\n",
    "    \n",
    "    # Create GCS client with credentials\n",
    "    client = storage.Client(credentials=credentials, project=service_account_dict[\"project_id\"])\n",
    "    bucket = client.get_bucket(bucket_name)\n",
    "\n",
    "    # Ensure destination exists\n",
    "    os.makedirs(destination_folder, exist_ok=True)\n",
    "\n",
    "    # List blobs with prefix\n",
    "    blobs = list(bucket.list_blobs(prefix=source_folder))\n",
    "    print(f\"Found {len(blobs)} files in '{source_folder}'\")\n",
    "\n",
    "    for blob in tqdm(blobs, desc=\"Downloading files\"):\n",
    "        relative_path = os.path.relpath(blob.name, source_folder)\n",
    "        local_path = os.path.join(destination_folder, relative_path)\n",
    "        os.makedirs(os.path.dirname(local_path), exist_ok=True)\n",
    "        blob.download_to_filename(local_path)\n",
    "\n",
    "    print(f\"Downloaded folder '{source_folder}' to '{destination_folder}'\")\n",
    "\n",
    "\n",
    "# Paste your JSON key as a Python dict (or load from env / secure storage)\n",
    "service_account_json_dict ={}\n",
    "\n",
    "\n",
    "bucket_name = \"models-bucket-munshi\"\n",
    "source_folder = \"models/phi4-full-finetune-2\"\n",
    "destination_folder = \"./munshi-ai\"\n",
    "\n",
    "download_gcs_folder(bucket_name, source_folder, destination_folder, service_account_json_dict)\n"
   ]
  }
 ],
 "metadata": {
  "kernelspec": {
   "display_name": ".venv",
   "language": "python",
   "name": "python3"
  },
  "language_info": {
   "codemirror_mode": {
    "name": "ipython",
    "version": 3
   },
   "file_extension": ".py",
   "mimetype": "text/x-python",
   "name": "python",
   "nbconvert_exporter": "python",
   "pygments_lexer": "ipython3",
   "version": "3.11.11"
  }
 },
 "nbformat": 4,
 "nbformat_minor": 5
}
