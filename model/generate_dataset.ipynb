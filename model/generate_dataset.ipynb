{
 "cells": [
  {
   "cell_type": "code",
   "execution_count": 1,
   "id": "322c746c",
   "metadata": {
    "ExecuteTime": {
     "end_time": "2025-06-28T17:38:00.317711Z",
     "start_time": "2025-06-28T17:38:00.047077Z"
    }
   },
   "outputs": [
    {
     "name": "stdout",
     "output_type": "stream",
     "text": [
      "✅ Combined 3 files into ./dataset/combined_dataset.csv\n"
     ]
    }
   ],
   "source": [
    "import pandas as pd\n",
    "\n",
    "# === Step 1: Set the folder containing your CSV files ===\n",
    "folder_path = \"/Users/p0s0cad/work/personal-projects/ai-munshi/model/dataset/dataset_templates/\"  # <-- change this to your folder path\n",
    "\n",
    "\n",
    "# === Step 2: Find all CSV files in that folder ===\n",
    "csv_file_paths = [\n",
    "    \"/Users/p0s0cad/work/personal-projects/ai-munshi/model/dataset/dataset_templates/aggregation_queries_with_df_code.csv\",\n",
    "    \"/Users/p0s0cad/work/personal-projects/ai-munshi/model/dataset/dataset_templates/sorting_ranking_queries_with_df_code.csv\",\n",
    "    \"/Users/p0s0cad/work/personal-projects/ai-munshi/model/dataset/dataset_templates/text_string_queries_with_df_code.csv\"\n",
    "]\n",
    "\n",
    "# === Step 3: Read and concatenate them ===\n",
    "all_dfs = []\n",
    "\n",
    "for file_path in csv_file_paths:\n",
    "    df = pd.read_csv(file_path)\n",
    "    all_dfs.append(df)\n",
    "\n",
    "final_df = pd.concat(all_dfs, ignore_index=True)\n",
    "\n",
    "final_df=final_df[[\"query_type\",\"query\",\"col_1\",\"col_2\",\"df_command\"]]\n",
    "\n",
    "# === Step 4: Save the combined dataset ===\n",
    "output_path = \"./dataset/combined_dataset.csv\"\n",
    "final_df.to_csv(output_path, index=False)\n",
    "\n",
    "print(f\"✅ Combined {len(csv_file_paths)} files into {output_path}\")\n"
   ]
  },
  {
   "cell_type": "code",
   "id": "ae131d19",
   "metadata": {
    "ExecuteTime": {
     "end_time": "2025-06-29T06:00:10.350493Z",
     "start_time": "2025-06-29T06:00:10.322481Z"
    }
   },
   "source": [
    "import random\n",
    "import pandas as pd\n",
    "import json\n",
    "\n",
    "# === Step 0: Fake columns pool for schema noise ===\n",
    "fake_cols_pool = [\n",
    "    'Request ID', 'Tracking Code', 'Approval Status', 'Internal Notes', 'Timestamp Created',\n",
    "    'Last Modified By', 'Error Code', 'Sync Status', 'Origin System', 'Archived Flag',\n",
    "    'Workflow Step', 'Reviewer Comments', 'Flagged Reason', 'Processing Time', 'Manual Override',\n",
    "    'Document Ref', 'System ID', 'Batch Number', 'Response Time (ms)', 'Audit Trail',\n",
    "    'Project Tag', 'Release Version', 'Run ID', 'Environment Name', 'Retry Count',\n",
    "    'Source File Name', 'Alert Triggered', 'Backup ID', 'Session Token', 'Validation Notes'\n",
    "]\n",
    "\n",
    "# === Step 1: Load your CSV ===\n",
    "input_csv_path = \"./dataset/combined_dataset.csv\"\n",
    "df = pd.read_csv(input_csv_path)\n",
    "\n",
    "# === Step 2: Convert to CodeT5 format ===\n",
    "output_data = []\n",
    "\n",
    "for _, row in df.iterrows():\n",
    "    # Collect actual columns used\n",
    "    true_cols = list({col.strip() for col in [row[\"col_1\"], row.get(\"col_2\", None)] if pd.notna(col) and col.strip()})\n",
    "    extra_cols = random.sample(fake_cols_pool, 5)\n",
    "    all_cols = sorted(set(true_cols + extra_cols))\n",
    "    schema = \", \".join(all_cols)\n",
    "\n",
    "    # Create prompt: embed schema into source\n",
    "    query = row[\"query\"].strip()\n",
    "    source = f\"The DataFrame contains the following columns: {schema}.\\nQuery: {query}\"\n",
    "\n",
    "    # The expected code output\n",
    "    target = row[\"df_command\"].strip()\n",
    "\n",
    "    output_data.append({\n",
    "        \"source\": source,\n",
    "        \"target\": target\n",
    "    })\n",
    "\n",
    "# === Step 3: Save JSONL ===\n",
    "output_jsonl_path = \"./codet5_dataset.jsonl\"\n",
    "with open(output_jsonl_path, \"w\") as f:\n",
    "    for item in output_data:\n",
    "        f.write(json.dumps(item) + \"\\n\")\n",
    "\n",
    "print(f\"✅ Saved {len(output_data)} examples to {output_jsonl_path} for CodeT5 training.\")\n"
   ],
   "outputs": [
    {
     "name": "stdout",
     "output_type": "stream",
     "text": [
      "✅ Saved 1006 examples to ./codet5_dataset.jsonl for CodeT5 training.\n"
     ]
    }
   ],
   "execution_count": 6
  },
  {
   "cell_type": "code",
   "execution_count": null,
   "id": "8449ad2e",
   "metadata": {},
   "outputs": [],
   "source": [
    "%pip install transformers==4.51.0\n",
    "%pip install accelerate==1.6.0\n",
    "%pip install datasets==3.5.0"
   ]
  },
  {
   "cell_type": "code",
   "id": "9ad5a6ae",
   "metadata": {
    "ExecuteTime": {
     "end_time": "2025-06-29T06:02:57.637825Z",
     "start_time": "2025-06-29T06:01:03.407833Z"
    }
   },
   "source": [
    "from datasets import load_dataset\n",
    "from transformers import (\n",
    "    AutoTokenizer,\n",
    "    AutoModelForSeq2SeqLM,\n",
    "    Seq2SeqTrainer,\n",
    "    Seq2SeqTrainingArguments,\n",
    "    DataCollatorForSeq2Seq\n",
    ")\n",
    "import torch\n",
    "\n",
    "# === Configuration ===\n",
    "model_path = \"Salesforce/codet5p-220m\"\n",
    "dataset_path = \"codet5_dataset.jsonl\"  # must have \"source\" and \"target\" fields\n",
    "output_dir = \"./codet5p-full-finetune\"\n",
    "torch.manual_seed(0)\n",
    "\n",
    "# === Load dataset ===\n",
    "dataset = load_dataset(\"json\", data_files=dataset_path, split=\"train\")\n",
    "\n",
    "# === Tokenizer ===\n",
    "tokenizer = AutoTokenizer.from_pretrained(model_path)\n",
    "\n",
    "# === Tokenization ===\n",
    "def tokenize(example):\n",
    "    model_input = tokenizer(\n",
    "        example[\"source\"],\n",
    "        truncation=True,\n",
    "        padding=\"max_length\",\n",
    "        max_length=256\n",
    "    )\n",
    "    with tokenizer.as_target_tokenizer():\n",
    "        labels = tokenizer(\n",
    "            example[\"target\"],\n",
    "            truncation=True,\n",
    "            padding=\"max_length\",\n",
    "            max_length=128\n",
    "        )\n",
    "    model_input[\"labels\"] = labels[\"input_ids\"]\n",
    "    return model_input\n",
    "\n",
    "tokenized_dataset = dataset.map(tokenize, remove_columns=dataset.column_names)\n",
    "\n",
    "# === Load Model ===\n",
    "model = AutoModelForSeq2SeqLM.from_pretrained(\n",
    "    model_path,\n",
    "    device_map=\"auto\",\n",
    "    torch_dtype=\"auto\",\n",
    "    trust_remote_code=True,\n",
    "    cache_dir=\"/tmp/codet5p_cache\"\n",
    ")"
   ],
   "outputs": [
    {
     "name": "stderr",
     "output_type": "stream",
     "text": [
      "Generating train split: 1006 examples [00:00, 43857.79 examples/s]\n",
      "Map:   0%|          | 0/1006 [00:00<?, ? examples/s]/Users/p0s0cad/work/personal-projects/ai-munshi/.venv/lib/python3.11/site-packages/transformers/tokenization_utils_base.py:3959: UserWarning: `as_target_tokenizer` is deprecated and will be removed in v5 of Transformers. You can tokenize your labels by using the argument `text_target` of the regular `__call__` method (either in the same call as your input texts if you use the same keyword arguments, or in a separate call.\n",
      "  warnings.warn(\n",
      "Map: 100%|██████████| 1006/1006 [00:00<00:00, 5840.49 examples/s]\n"
     ]
    }
   ],
   "execution_count": 8
  },
  {
   "metadata": {
    "ExecuteTime": {
     "end_time": "2025-06-29T06:06:27.654329Z",
     "start_time": "2025-06-29T06:03:05.789475Z"
    }
   },
   "cell_type": "code",
   "source": [
    "\n",
    "# === Data Collator ===\n",
    "data_collator = DataCollatorForSeq2Seq(tokenizer=tokenizer, model=model)\n",
    "\n",
    "# === Training Arguments (add your own config) ===\n",
    "training_args = Seq2SeqTrainingArguments(\n",
    "    output_dir=output_dir,\n",
    "    per_device_train_batch_size=8,\n",
    "    num_train_epochs=3,\n",
    "    logging_steps=50,\n",
    "    predict_with_generate=True,\n",
    "    fp16=torch.cuda.is_available(),\n",
    "    save_strategy=\"no\",\n",
    "    learning_rate=5e-5,  # slightly higher to help faster adaptation\n",
    "    weight_decay=0.0,  # unnecessary for tiny datasets\n",
    "    report_to=\"none\",\n",
    "    push_to_hub=False\n",
    ")\n",
    "\n",
    "# === Trainer ===\n",
    "trainer = Seq2SeqTrainer(\n",
    "    model=model,\n",
    "    args=training_args,\n",
    "    train_dataset=tokenized_dataset,\n",
    "    tokenizer=tokenizer,\n",
    "    data_collator=data_collator\n",
    ")\n",
    "\n",
    "\n",
    "# === Train ===\n",
    "trainer.train()\n",
    "\n",
    "# === Save ===\n",
    "model.save_pretrained(output_dir)\n",
    "tokenizer.save_pretrained(output_dir)\n",
    "\n",
    "print(\"✅ Full fine-tuning complete. Model saved.\")"
   ],
   "id": "e235b4cdac34d8a1",
   "outputs": [
    {
     "name": "stderr",
     "output_type": "stream",
     "text": [
      "/var/folders/7m/fhfnftjx66qbqccx433rlq140000gp/T/ipykernel_10270/2380171418.py:20: FutureWarning: `tokenizer` is deprecated and will be removed in version 5.0.0 for `Seq2SeqTrainer.__init__`. Use `processing_class` instead.\n",
      "  trainer = Seq2SeqTrainer(\n",
      "/Users/p0s0cad/work/personal-projects/ai-munshi/.venv/lib/python3.11/site-packages/torch/utils/data/dataloader.py:683: UserWarning: 'pin_memory' argument is set as true but not supported on MPS now, then device pinned memory won't be used.\n",
      "  warnings.warn(warn_msg)\n"
     ]
    },
    {
     "data": {
      "text/plain": [
       "<IPython.core.display.HTML object>"
      ],
      "text/html": [
       "\n",
       "    <div>\n",
       "      \n",
       "      <progress value='378' max='378' style='width:300px; height:20px; vertical-align: middle;'></progress>\n",
       "      [378/378 03:17, Epoch 3/3]\n",
       "    </div>\n",
       "    <table border=\"1\" class=\"dataframe\">\n",
       "  <thead>\n",
       " <tr style=\"text-align: left;\">\n",
       "      <th>Step</th>\n",
       "      <th>Training Loss</th>\n",
       "    </tr>\n",
       "  </thead>\n",
       "  <tbody>\n",
       "    <tr>\n",
       "      <td>50</td>\n",
       "      <td>5.115900</td>\n",
       "    </tr>\n",
       "    <tr>\n",
       "      <td>100</td>\n",
       "      <td>0.000000</td>\n",
       "    </tr>\n",
       "    <tr>\n",
       "      <td>150</td>\n",
       "      <td>0.000000</td>\n",
       "    </tr>\n",
       "    <tr>\n",
       "      <td>200</td>\n",
       "      <td>0.000000</td>\n",
       "    </tr>\n",
       "    <tr>\n",
       "      <td>250</td>\n",
       "      <td>0.000000</td>\n",
       "    </tr>\n",
       "    <tr>\n",
       "      <td>300</td>\n",
       "      <td>0.000000</td>\n",
       "    </tr>\n",
       "    <tr>\n",
       "      <td>350</td>\n",
       "      <td>0.000000</td>\n",
       "    </tr>\n",
       "  </tbody>\n",
       "</table><p>"
      ]
     },
     "metadata": {},
     "output_type": "display_data"
    },
    {
     "name": "stdout",
     "output_type": "stream",
     "text": [
      "✅ Full fine-tuning complete. Model saved.\n"
     ]
    }
   ],
   "execution_count": 9
  }
 ],
 "metadata": {
  "kernelspec": {
   "display_name": ".venv",
   "language": "python",
   "name": "python3"
  },
  "language_info": {
   "codemirror_mode": {
    "name": "ipython",
    "version": 3
   },
   "file_extension": ".py",
   "mimetype": "text/x-python",
   "name": "python",
   "nbconvert_exporter": "python",
   "pygments_lexer": "ipython3",
   "version": "3.11.11"
  }
 },
 "nbformat": 4,
 "nbformat_minor": 5
}
