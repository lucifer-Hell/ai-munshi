{
 "cells": [
  {
   "cell_type": "code",
   "execution_count": null,
   "id": "ad6309dd",
   "metadata": {},
   "outputs": [],
   "source": [
    "%pip install google-cloud-storage"
   ]
  },
  {
   "cell_type": "code",
   "execution_count": null,
   "id": "eaa644c3",
   "metadata": {},
   "outputs": [],
   "source": [
    "import os\n",
    "import json\n",
    "import tempfile\n",
    "from google.cloud import storage\n",
    "from tqdm import tqdm\n",
    "\n",
    "\n",
    "# === 1. Your service account credentials (pasted JSON) ===\n",
    "service_account_json = {}\n",
    "\n",
    "# === 2. Configuration ===\n",
    "bucket_name = \"models-bucket-munshi\"\n",
    "folders_to_upload = [\"./phi4-full-finetune-2\", \"./phi4-full-finetune\"]\n",
    "destination_base_prefix = \"models\"  # top-level folder in GCS bucket\n",
    "\n",
    "# === 3. Write service account key to a temp file ===\n",
    "with tempfile.NamedTemporaryFile(\"w+\", suffix=\".json\", delete=False) as tmp_key_file:\n",
    "    json.dump(service_account_json, tmp_key_file)\n",
    "    tmp_key_path = tmp_key_file.name\n",
    "\n",
    "# === 4. Initialize GCS client ===\n",
    "client = storage.Client.from_service_account_json(tmp_key_path)\n",
    "bucket = client.get_bucket(bucket_name)\n",
    "\n",
    "\n",
    "# === 5. Upload with progress\n",
    "def upload_with_progress(blob, file_path):\n",
    "    file_size = os.path.getsize(file_path)\n",
    "    with open(file_path, \"rb\") as f:\n",
    "        with tqdm.wrapattr(f, \"read\", total=file_size, desc=f\"Uploading {os.path.basename(file_path)}\", unit=\"B\", unit_scale=True, unit_divisor=1024) as file_obj:\n",
    "            blob.upload_from_file(file_obj, rewind=True)\n",
    "\n",
    "# === 6. Upload folders\n",
    "for folder_path in folders_to_upload:\n",
    "    model_name = os.path.basename(folder_path.rstrip(\"/\"))\n",
    "    destination_prefix = os.path.join(destination_base_prefix, model_name)\n",
    "\n",
    "    for root, _, files in os.walk(folder_path):\n",
    "        for file in files:\n",
    "            local_path = os.path.join(root, file)\n",
    "            relative_path = os.path.relpath(local_path, folder_path)\n",
    "            gcs_path = os.path.join(destination_prefix, relative_path)\n",
    "\n",
    "            blob = bucket.blob(gcs_path)\n",
    "            upload_with_progress(blob, local_path)\n",
    "\n",
    "print(\"✅ All model folders uploaded with progress tracking.\")\n",
    "os.remove(tmp_key_path)"
   ]
  }
 ],
 "metadata": {
  "language_info": {
   "name": "python"
  }
 },
 "nbformat": 4,
 "nbformat_minor": 5
}
